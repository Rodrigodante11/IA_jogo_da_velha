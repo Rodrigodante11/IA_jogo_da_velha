{
  "nbformat": 4,
  "nbformat_minor": 0,
  "metadata": {
    "colab": {
      "name": "IA_jogo_velha.ipynb",
      "provenance": [],
      "collapsed_sections": []
    },
    "kernelspec": {
      "name": "python3",
      "display_name": "Python 3"
    },
    "language_info": {
      "name": "python"
    }
  },
  "cells": [
    {
      "cell_type": "code",
      "source": [
        "# !pip uninstall sklearn\n",
        "# !pip uninstall scikit-learn\n",
        "# !pip install sklearn"
      ],
      "metadata": {
        "id": "m0q8HIfU5HeP"
      },
      "execution_count": 5,
      "outputs": []
    },
    {
      "cell_type": "code",
      "execution_count": 6,
      "metadata": {
        "id": "8ldRPeOBt291"
      },
      "outputs": [],
      "source": [
        "import pandas as pd  # importando a bibliotecas pandas\n",
        "from sklearn.datasets import load_digits\n",
        "from sklearn.linear_model import Perceptron"
      ]
    },
    {
      "cell_type": "code",
      "source": [
        "df_tic_tac_toe = pd.read_csv(\"tic-tac-toe.csv\")  # Lendo o arquivo csv e armazendano em um dataframe"
      ],
      "metadata": {
        "id": "qbp2dbr9vYS9"
      },
      "execution_count": 7,
      "outputs": []
    },
    {
      "cell_type": "markdown",
      "source": [
        "# Nova secção"
      ],
      "metadata": {
        "id": "h6Jci_GVlKGL"
      }
    },
    {
      "cell_type": "code",
      "source": [
        "df_tic_tac_toe.isna().any() # verificando campo vazio que pode quebrar o sistema"
      ],
      "metadata": {
        "colab": {
          "base_uri": "https://localhost:8080/"
        },
        "id": "Wz974BUzvjkK",
        "outputId": "58e9ee68-e520-4907-9067-dab62d6b7cae"
      },
      "execution_count": 8,
      "outputs": [
        {
          "output_type": "execute_result",
          "data": {
            "text/plain": [
              "1            False\n",
              "2            False\n",
              "3            False\n",
              "4            False\n",
              "5            False\n",
              "6            False\n",
              "7            False\n",
              "8            False\n",
              "9            False\n",
              "resultado    False\n",
              "dtype: bool"
            ]
          },
          "metadata": {},
          "execution_count": 8
        }
      ]
    },
    {
      "cell_type": "code",
      "source": [
        "df_tic_tac_toe.head() # vendo como esta os dados"
      ],
      "metadata": {
        "colab": {
          "base_uri": "https://localhost:8080/",
          "height": 206
        },
        "id": "ljPU38zRwEw0",
        "outputId": "0f75708b-3cc5-4f28-96ea-fe9dd8ef79c9"
      },
      "execution_count": 9,
      "outputs": [
        {
          "output_type": "execute_result",
          "data": {
            "text/plain": [
              "   1  2  3  4  5  6  7  8  9 resultado\n",
              "0  x  x  x  x  o  o  x  o  o  positivo\n",
              "1  x  x  x  x  o  o  o  x  o  positivo\n",
              "2  x  x  x  x  o  o  o  o  x  positivo\n",
              "3  x  x  x  x  o  o  o  b  b  positivo\n",
              "4  x  x  x  x  o  o  b  o  b  positivo"
            ],
            "text/html": [
              "\n",
              "  <div id=\"df-81a7a44e-17c6-4fce-b980-450299e0962e\">\n",
              "    <div class=\"colab-df-container\">\n",
              "      <div>\n",
              "<style scoped>\n",
              "    .dataframe tbody tr th:only-of-type {\n",
              "        vertical-align: middle;\n",
              "    }\n",
              "\n",
              "    .dataframe tbody tr th {\n",
              "        vertical-align: top;\n",
              "    }\n",
              "\n",
              "    .dataframe thead th {\n",
              "        text-align: right;\n",
              "    }\n",
              "</style>\n",
              "<table border=\"1\" class=\"dataframe\">\n",
              "  <thead>\n",
              "    <tr style=\"text-align: right;\">\n",
              "      <th></th>\n",
              "      <th>1</th>\n",
              "      <th>2</th>\n",
              "      <th>3</th>\n",
              "      <th>4</th>\n",
              "      <th>5</th>\n",
              "      <th>6</th>\n",
              "      <th>7</th>\n",
              "      <th>8</th>\n",
              "      <th>9</th>\n",
              "      <th>resultado</th>\n",
              "    </tr>\n",
              "  </thead>\n",
              "  <tbody>\n",
              "    <tr>\n",
              "      <th>0</th>\n",
              "      <td>x</td>\n",
              "      <td>x</td>\n",
              "      <td>x</td>\n",
              "      <td>x</td>\n",
              "      <td>o</td>\n",
              "      <td>o</td>\n",
              "      <td>x</td>\n",
              "      <td>o</td>\n",
              "      <td>o</td>\n",
              "      <td>positivo</td>\n",
              "    </tr>\n",
              "    <tr>\n",
              "      <th>1</th>\n",
              "      <td>x</td>\n",
              "      <td>x</td>\n",
              "      <td>x</td>\n",
              "      <td>x</td>\n",
              "      <td>o</td>\n",
              "      <td>o</td>\n",
              "      <td>o</td>\n",
              "      <td>x</td>\n",
              "      <td>o</td>\n",
              "      <td>positivo</td>\n",
              "    </tr>\n",
              "    <tr>\n",
              "      <th>2</th>\n",
              "      <td>x</td>\n",
              "      <td>x</td>\n",
              "      <td>x</td>\n",
              "      <td>x</td>\n",
              "      <td>o</td>\n",
              "      <td>o</td>\n",
              "      <td>o</td>\n",
              "      <td>o</td>\n",
              "      <td>x</td>\n",
              "      <td>positivo</td>\n",
              "    </tr>\n",
              "    <tr>\n",
              "      <th>3</th>\n",
              "      <td>x</td>\n",
              "      <td>x</td>\n",
              "      <td>x</td>\n",
              "      <td>x</td>\n",
              "      <td>o</td>\n",
              "      <td>o</td>\n",
              "      <td>o</td>\n",
              "      <td>b</td>\n",
              "      <td>b</td>\n",
              "      <td>positivo</td>\n",
              "    </tr>\n",
              "    <tr>\n",
              "      <th>4</th>\n",
              "      <td>x</td>\n",
              "      <td>x</td>\n",
              "      <td>x</td>\n",
              "      <td>x</td>\n",
              "      <td>o</td>\n",
              "      <td>o</td>\n",
              "      <td>b</td>\n",
              "      <td>o</td>\n",
              "      <td>b</td>\n",
              "      <td>positivo</td>\n",
              "    </tr>\n",
              "  </tbody>\n",
              "</table>\n",
              "</div>\n",
              "      <button class=\"colab-df-convert\" onclick=\"convertToInteractive('df-81a7a44e-17c6-4fce-b980-450299e0962e')\"\n",
              "              title=\"Convert this dataframe to an interactive table.\"\n",
              "              style=\"display:none;\">\n",
              "        \n",
              "  <svg xmlns=\"http://www.w3.org/2000/svg\" height=\"24px\"viewBox=\"0 0 24 24\"\n",
              "       width=\"24px\">\n",
              "    <path d=\"M0 0h24v24H0V0z\" fill=\"none\"/>\n",
              "    <path d=\"M18.56 5.44l.94 2.06.94-2.06 2.06-.94-2.06-.94-.94-2.06-.94 2.06-2.06.94zm-11 1L8.5 8.5l.94-2.06 2.06-.94-2.06-.94L8.5 2.5l-.94 2.06-2.06.94zm10 10l.94 2.06.94-2.06 2.06-.94-2.06-.94-.94-2.06-.94 2.06-2.06.94z\"/><path d=\"M17.41 7.96l-1.37-1.37c-.4-.4-.92-.59-1.43-.59-.52 0-1.04.2-1.43.59L10.3 9.45l-7.72 7.72c-.78.78-.78 2.05 0 2.83L4 21.41c.39.39.9.59 1.41.59.51 0 1.02-.2 1.41-.59l7.78-7.78 2.81-2.81c.8-.78.8-2.07 0-2.86zM5.41 20L4 18.59l7.72-7.72 1.47 1.35L5.41 20z\"/>\n",
              "  </svg>\n",
              "      </button>\n",
              "      \n",
              "  <style>\n",
              "    .colab-df-container {\n",
              "      display:flex;\n",
              "      flex-wrap:wrap;\n",
              "      gap: 12px;\n",
              "    }\n",
              "\n",
              "    .colab-df-convert {\n",
              "      background-color: #E8F0FE;\n",
              "      border: none;\n",
              "      border-radius: 50%;\n",
              "      cursor: pointer;\n",
              "      display: none;\n",
              "      fill: #1967D2;\n",
              "      height: 32px;\n",
              "      padding: 0 0 0 0;\n",
              "      width: 32px;\n",
              "    }\n",
              "\n",
              "    .colab-df-convert:hover {\n",
              "      background-color: #E2EBFA;\n",
              "      box-shadow: 0px 1px 2px rgba(60, 64, 67, 0.3), 0px 1px 3px 1px rgba(60, 64, 67, 0.15);\n",
              "      fill: #174EA6;\n",
              "    }\n",
              "\n",
              "    [theme=dark] .colab-df-convert {\n",
              "      background-color: #3B4455;\n",
              "      fill: #D2E3FC;\n",
              "    }\n",
              "\n",
              "    [theme=dark] .colab-df-convert:hover {\n",
              "      background-color: #434B5C;\n",
              "      box-shadow: 0px 1px 3px 1px rgba(0, 0, 0, 0.15);\n",
              "      filter: drop-shadow(0px 1px 2px rgba(0, 0, 0, 0.3));\n",
              "      fill: #FFFFFF;\n",
              "    }\n",
              "  </style>\n",
              "\n",
              "      <script>\n",
              "        const buttonEl =\n",
              "          document.querySelector('#df-81a7a44e-17c6-4fce-b980-450299e0962e button.colab-df-convert');\n",
              "        buttonEl.style.display =\n",
              "          google.colab.kernel.accessAllowed ? 'block' : 'none';\n",
              "\n",
              "        async function convertToInteractive(key) {\n",
              "          const element = document.querySelector('#df-81a7a44e-17c6-4fce-b980-450299e0962e');\n",
              "          const dataTable =\n",
              "            await google.colab.kernel.invokeFunction('convertToInteractive',\n",
              "                                                     [key], {});\n",
              "          if (!dataTable) return;\n",
              "\n",
              "          const docLinkHtml = 'Like what you see? Visit the ' +\n",
              "            '<a target=\"_blank\" href=https://colab.research.google.com/notebooks/data_table.ipynb>data table notebook</a>'\n",
              "            + ' to learn more about interactive tables.';\n",
              "          element.innerHTML = '';\n",
              "          dataTable['output_type'] = 'display_data';\n",
              "          await google.colab.output.renderOutput(dataTable, element);\n",
              "          const docLink = document.createElement('div');\n",
              "          docLink.innerHTML = docLinkHtml;\n",
              "          element.appendChild(docLink);\n",
              "        }\n",
              "      </script>\n",
              "    </div>\n",
              "  </div>\n",
              "  "
            ]
          },
          "metadata": {},
          "execution_count": 9
        }
      ]
    },
    {
      "cell_type": "code",
      "source": [
        "# Replace tudo para numero\n",
        "df_tic_tac_toe.replace({'o' :-1 , 'b' : 0 , 'x': 1 , 'positivo' : 1 , 'negativo':-1 }, inplace=True)\n"
      ],
      "metadata": {
        "id": "XgK3uJZXzHQO"
      },
      "execution_count": 10,
      "outputs": []
    },
    {
      "cell_type": "code",
      "source": [
        "# Separação dos dados de entrada e saida \n",
        "saida = df_tic_tac_toe['resultado']\n",
        "entrada = df_tic_tac_toe.drop(columns ='resultado')\n"
      ],
      "metadata": {
        "id": "5XHUfZPY4iWu"
      },
      "execution_count": 11,
      "outputs": []
    },
    {
      "cell_type": "code",
      "source": [
        "from sklearn.model_selection import train_test_split #serve para dividir os dados em train e test\n",
        "\n",
        "# test_size=0.2 = 20¨%\n",
        "x_train, x_test, y_train, y_test = train_test_split(entrada, saida, test_size=0.2)"
      ],
      "metadata": {
        "id": "592fobHKuNOg"
      },
      "execution_count": 12,
      "outputs": []
    },
    {
      "cell_type": "code",
      "source": [
        "from sklearn.naive_bayes import GaussianNB #algoritmo que utilizei para classificação dos dados\n",
        "#Modelo escolhido e utilizado é o Naive Bayes\n",
        "model = GaussianNB()\n",
        "\n",
        "#Treinando o modelo\n",
        "model.fit(x_train, y_train)\n",
        "\n",
        "#Prevendo a resposta para os dados de teste\n",
        "y_pred = model.predict(x_test)"
      ],
      "metadata": {
        "id": "IdIQFMqUwyuV"
      },
      "execution_count": 13,
      "outputs": []
    },
    {
      "cell_type": "code",
      "source": [
        "#Métrica de avaliação do modelo\n",
        "from sklearn.metrics import classification_report\n",
        "classification_report(y_test, y_pred)"
      ],
      "metadata": {
        "colab": {
          "base_uri": "https://localhost:8080/",
          "height": 70
        },
        "id": "i3UjJ2Y0xir-",
        "outputId": "2550951e-71e0-4352-b606-243b8a520754"
      },
      "execution_count": 14,
      "outputs": [
        {
          "output_type": "execute_result",
          "data": {
            "text/plain": [
              "'              precision    recall  f1-score   support\\n\\n          -1       0.62      0.42      0.51        59\\n           1       0.78      0.89      0.83       133\\n\\n    accuracy                           0.74       192\\n   macro avg       0.70      0.66      0.67       192\\nweighted avg       0.73      0.74      0.73       192\\n'"
            ],
            "application/vnd.google.colaboratory.intrinsic+json": {
              "type": "string"
            }
          },
          "metadata": {},
          "execution_count": 14
        }
      ]
    },
    {
      "cell_type": "code",
      "source": [
        "# Valores de entrada para usuario \n",
        "lista = []\n",
        "for num in range(9):\n",
        "\n",
        "  try:\n",
        "    print(\"Digite a posicao : \"+ str(num+1))\n",
        "    lista.append(int(input())) # se digitar valor diferente de int o cast para int ira gerar uma excessao \n",
        "  except:\n",
        "    print(\"Error: Digite um valor Valido !\")\n",
        "    break\n",
        "\n",
        "\n",
        "filtrados = [x for x in lista if x > 1 or x < -1] # pegando valores diferentes dos validos ( -1, 0 , 1 )\n",
        "if (len(filtrados) ==0 ): # verificando se existe valor diferentes dos validos ( -1, 0 , 1 )\n",
        "  x_input = pd.DataFrame(lista) # convertendo a lista em pandas dataframe \n",
        "else:\n",
        "  print(\"Error: valores diferentes de -1, 0 , 1 foi inserido \")\n",
        "\n",
        "# x = [-1, 1,\t1, 0,\t-1, 0, 1,\t0,\t-1] # NAO -1vitoria d X\n",
        "# x = [1, 1,\t1, 0,\t-1, 0, 1,\t-1,\t-1] # vitoria d X"
      ],
      "metadata": {
        "colab": {
          "base_uri": "https://localhost:8080/"
        },
        "id": "M26VTksiIjTf",
        "outputId": "91ab98dd-08b8-40a8-994f-fb406cdf8eb0"
      },
      "execution_count": 41,
      "outputs": [
        {
          "name": "stdout",
          "output_type": "stream",
          "text": [
            "Digite a posicao : 1\n",
            "1\n",
            "Digite a posicao : 2\n",
            "1\n",
            "Digite a posicao : 3\n",
            "1\n",
            "Digite a posicao : 4\n",
            "0\n",
            "Digite a posicao : 5\n",
            "-1\n",
            "Digite a posicao : 6\n",
            "0\n",
            "Digite a posicao : 7\n",
            "1\n",
            "Digite a posicao : 8\n",
            "-1\n",
            "Digite a posicao : 9\n",
            "-1\n"
          ]
        }
      ]
    },
    {
      "cell_type": "code",
      "source": [
        "a = x_input.transpose()\n",
        "b = a.replace({-1 :'O' , 1 : 'X' , 0 : 'B' }, inplace=True)\n",
        "\n",
        "print(\"|  \" + a[0][0] + \"  \" + a[1][0] + \"  \" + a[2][0] + \" | \")\n",
        "print(\"|  \" + a[3][0] + \"  \" + a[4][0] + \"  \" + a[5][0] + \" | \")\n",
        "print(\"|  \" + a[6][0] + \"  \" + a[7][0] + \"  \" + a[8][0] + \" | \")"
      ],
      "metadata": {
        "colab": {
          "base_uri": "https://localhost:8080/"
        },
        "id": "TPhh_Dry94e1",
        "outputId": "34920d83-3d8a-460a-e73a-536200b53121"
      },
      "execution_count": 42,
      "outputs": [
        {
          "output_type": "stream",
          "name": "stdout",
          "text": [
            "|  X  X  X | \n",
            "|  B  O  B | \n",
            "|  X  O  O | \n"
          ]
        }
      ]
    },
    {
      "cell_type": "code",
      "source": [
        "#Prevendo a resposta para os dados de teste\n",
        "\n",
        "y_user_pred = model.predict(x_input.transpose())\n",
        "\n",
        "print(\"Vitoria de X: \"+ str(y_user_pred[0] == 1))\n",
        "print()\n",
        "print()\n",
        "print()\n",
        "# if int(y_user_pred[0]) == 1:\n",
        "#     print(\"Vitoria de X\")\n",
        "# else:\n",
        "#     print(\"Vitoria de O\")"
      ],
      "metadata": {
        "colab": {
          "base_uri": "https://localhost:8080/"
        },
        "id": "MzCoV_KNyoIY",
        "outputId": "ae621948-06a4-41f8-cb05-296da8b6700e"
      },
      "execution_count": 43,
      "outputs": [
        {
          "output_type": "stream",
          "name": "stdout",
          "text": [
            "Vitoria de X: True\n",
            "\n",
            "\n",
            "\n"
          ]
        },
        {
          "output_type": "stream",
          "name": "stderr",
          "text": [
            "/usr/local/lib/python3.7/dist-packages/sklearn/base.py:451: UserWarning: X does not have valid feature names, but GaussianNB was fitted with feature names\n",
            "  \"X does not have valid feature names, but\"\n"
          ]
        }
      ]
    },
    {
      "cell_type": "code",
      "source": [
        ""
      ],
      "metadata": {
        "id": "_zcXFBbAzEjp"
      },
      "execution_count": null,
      "outputs": []
    }
  ]
}